{
 "cells": [
  {
   "cell_type": "code",
   "execution_count": 1,
   "id": "a840f196-c138-4bbf-86f2-3fec23eb6cc2",
   "metadata": {},
   "outputs": [
    {
     "name": "stdout",
     "output_type": "stream",
     "text": [
      "Function:\n"
     ]
    },
    {
     "data": {
      "text/latex": [
       "$\\displaystyle - I_{l}\\left({x_i}\\right) + I_{r}\\left(\\Pi\\left(dehom\\left(exp\\left({\\delta}\\right) {\\hat{T}_{rl}} {p_i}\\right)\\right)\\right)$"
      ],
      "text/plain": [
       "-I_l({x_i}) + I_r(pi)"
      ]
     },
     "metadata": {},
     "output_type": "display_data"
    },
    {
     "name": "stdout",
     "output_type": "stream",
     "text": [
      "(1, 1)\n",
      "<class 'sympy.matrices.expressions.matadd.MatAdd'>\n",
      "Substituted:\n"
     ]
    },
    {
     "data": {
      "text/latex": [
       "$\\displaystyle - I_{l}\\left({x_i}\\right) + I_{r}\\left(\\Pi\\left(dehom\\left(exp\\left({\\delta}\\right) {\\hat{p}_i}\\right)\\right)\\right)$"
      ],
      "text/plain": [
       "<SymE3.core.TotalFunction at 0x7fa6dca2bf10>"
      ]
     },
     "metadata": {},
     "output_type": "display_data"
    },
    {
     "name": "stdout",
     "output_type": "stream",
     "text": [
      "<class 'SymE3.core.TotalFunction'>\n",
      "Expanded:\n"
     ]
    },
    {
     "data": {
      "text/latex": [
       "$\\displaystyle - \\operatorname{I_{l}}{\\left({{x_i}_{0}},{{x_i}_{1}} \\right)} + \\operatorname{I_{r}}{\\left(c_{x} + \\frac{f_{x} {{\\hat{p}_i}_{0}}}{{{\\hat{p}_i}_{2}}},c_{y} + \\frac{f_{y} {{\\hat{p}_i}_{1}}}{{{\\hat{p}_i}_{2}}} \\right)}$"
      ],
      "text/plain": [
       "-I_l({{x_i}_{0}}, {{x_i}_{1}}) + I_r(c_x + f_x*{{\\hat{p}_i}_{0}}/{{\\hat{p}_i}_{2}}, c_y + f_y*{{\\hat{p}_i}_{1}}/{{\\hat{p}_i}_{2}})"
      ]
     },
     "metadata": {},
     "output_type": "display_data"
    },
    {
     "name": "stdout",
     "output_type": "stream",
     "text": [
      "<class 'sympy.core.add.Add'>\n",
      "Derivative:\n"
     ]
    },
    {
     "data": {
      "text/latex": [
       "$\\displaystyle \\left[\\begin{matrix}\\frac{f_{x} {{\\Delta}I_r}_{x}}{{{\\hat{p}_i}_{2}}} & \\frac{f_{y} {{\\Delta}I_r}_{y}}{{{\\hat{p}_i}_{2}}} & - \\frac{f_{x} {{\\Delta}I_r}_{x} {{\\hat{p}_i}_{0}}}{{{\\hat{p}_i}_{2}}^{2}} - \\frac{f_{y} {{\\Delta}I_r}_{y} {{\\hat{p}_i}_{1}}}{{{\\hat{p}_i}_{2}}^{2}} & - \\frac{f_{x} {{\\Delta}I_r}_{x} {{\\hat{p}_i}_{0}} {{\\hat{p}_i}_{1}}}{{{\\hat{p}_i}_{2}}^{2}} + {{\\Delta}I_r}_{y} \\left(- \\frac{f_{y} {{\\hat{p}_i}_{1}}^{2}}{{{\\hat{p}_i}_{2}}^{2}} - f_{y}\\right) & \\frac{f_{y} {{\\Delta}I_r}_{y} {{\\hat{p}_i}_{0}} {{\\hat{p}_i}_{1}}}{{{\\hat{p}_i}_{2}}^{2}} + {{\\Delta}I_r}_{x} \\left(\\frac{f_{x} {{\\hat{p}_i}_{0}}^{2}}{{{\\hat{p}_i}_{2}}^{2}} + f_{x}\\right) & - \\frac{f_{x} {{\\Delta}I_r}_{x} {{\\hat{p}_i}_{1}}}{{{\\hat{p}_i}_{2}}} + \\frac{f_{y} {{\\Delta}I_r}_{y} {{\\hat{p}_i}_{0}}}{{{\\hat{p}_i}_{2}}}\\end{matrix}\\right]$"
      ],
      "text/plain": [
       "Matrix([[f_x*{{\\Delta}I_r}_{x}/{{\\hat{p}_i}_{2}}, f_y*{{\\Delta}I_r}_{y}/{{\\hat{p}_i}_{2}}, -f_x*{{\\Delta}I_r}_{x}*{{\\hat{p}_i}_{0}}/{{\\hat{p}_i}_{2}}**2 - f_y*{{\\Delta}I_r}_{y}*{{\\hat{p}_i}_{1}}/{{\\hat{p}_i}_{2}}**2, -f_x*{{\\Delta}I_r}_{x}*{{\\hat{p}_i}_{0}}*{{\\hat{p}_i}_{1}}/{{\\hat{p}_i}_{2}}**2 + {{\\Delta}I_r}_{y}*(-f_y*{{\\hat{p}_i}_{1}}**2/{{\\hat{p}_i}_{2}}**2 - f_y), f_y*{{\\Delta}I_r}_{y}*{{\\hat{p}_i}_{0}}*{{\\hat{p}_i}_{1}}/{{\\hat{p}_i}_{2}}**2 + {{\\Delta}I_r}_{x}*(f_x*{{\\hat{p}_i}_{0}}**2/{{\\hat{p}_i}_{2}}**2 + f_x), -f_x*{{\\Delta}I_r}_{x}*{{\\hat{p}_i}_{1}}/{{\\hat{p}_i}_{2}} + f_y*{{\\Delta}I_r}_{y}*{{\\hat{p}_i}_{0}}/{{\\hat{p}_i}_{2}}]])"
      ]
     },
     "metadata": {},
     "output_type": "display_data"
    },
    {
     "name": "stdout",
     "output_type": "stream",
     "text": [
      "(1, 6)\n",
      "<class 'sympy.matrices.dense.MutableDenseMatrix'>\n"
     ]
    }
   ],
   "source": [
    "from sympy import symbols, Matrix\n",
    "from SymE3.core import Pixel, CustomFunction, SymbolicFunction, dehom, PointH, LieGroup, LieAlgebra, exp, TotalFunction\n",
    "\n",
    "def show(v):\n",
    "    display(v)\n",
    "    if hasattr(v, 'shape'):\n",
    "        print(v.shape)\n",
    "    print(type(v))\n",
    "    \n",
    "# Photometric alignment\n",
    "x_i = Pixel(\"{x_i}\")\n",
    "p_i = PointH(\"{p_i}\")\n",
    "That_rl = LieGroup(\"{\\\\hat{T}_{rl}}\")\n",
    "d = LieAlgebra(\"{\\\\delta}\")\n",
    "phat_i = PointH(\"{\\\\hat{p}_i}\")\n",
    "\n",
    "def proj(p):\n",
    "    p_ray = p / p[2, 0]\n",
    "    f_x, f_y, c_x, c_y = symbols(\"f_x f_y c_x c_y\")\n",
    "    \n",
    "    return Matrix([[f_x,   0, c_x],\n",
    "                   [  0, f_y, c_y]]) * p_ray\n",
    "\n",
    "Pi = CustomFunction(\"Pi\", proj, 3, 2)\n",
    "I_r = SymbolicFunction(\"I_r\", 2, 1)\n",
    "I_l = SymbolicFunction(\"I_l\", 2, 1)\n",
    "\n",
    "e = I_r(Pi(dehom(exp(d) * That_rl * p_i))) - I_l(x_i)\n",
    "print(\"Function:\")\n",
    "show(e)\n",
    "e = e.subs(That_rl * p_i, phat_i)\n",
    "\n",
    "f = TotalFunction(e)\n",
    "\n",
    "print(\"Substituted:\")\n",
    "show(f)\n",
    "\n",
    "print(\"Expanded:\")\n",
    "fe = f.as_explicit()\n",
    "show(fe)\n",
    "\n",
    "print(\"Derivative:\")\n",
    "df_dd = f.diff(d)\n",
    "show(df_dd)"
   ]
  },
  {
   "cell_type": "code",
   "execution_count": null,
   "id": "a6cbe30d-9d05-402f-a10c-280f656a84f1",
   "metadata": {},
   "outputs": [],
   "source": []
  }
 ],
 "metadata": {
  "kernelspec": {
   "display_name": "Python 3 (ipykernel)",
   "language": "python",
   "name": "python3"
  },
  "language_info": {
   "codemirror_mode": {
    "name": "ipython",
    "version": 3
   },
   "file_extension": ".py",
   "mimetype": "text/x-python",
   "name": "python",
   "nbconvert_exporter": "python",
   "pygments_lexer": "ipython3",
   "version": "3.10.6"
  }
 },
 "nbformat": 4,
 "nbformat_minor": 5
}
