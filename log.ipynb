{
 "cells": [
  {
   "cell_type": "code",
   "execution_count": 1,
   "id": "9cdcbe28-1737-45ca-aa1a-e414188b2a46",
   "metadata": {},
   "outputs": [
    {
     "data": {
      "text/latex": [
       "$\\displaystyle \\log{\\left({T_{j}}^{-1} {\\bar{T}_{ij}} exp\\left({\\delta\\xi_{i}}\\right) {T_{i}} \\right)}$"
      ],
      "text/plain": [
       "log({T_{j}}**(-1)*{\\bar{T}_{ij}}*exp({\\delta\\xi_{i}})*{T_{i}})"
      ]
     },
     "metadata": {},
     "output_type": "display_data"
    },
    {
     "data": {
      "text/latex": [
       "$\\displaystyle {T_{i}}$"
      ],
      "text/plain": [
       "{T_{i}}"
      ]
     },
     "metadata": {},
     "output_type": "display_data"
    },
    {
     "data": {
      "text/latex": [
       "$\\displaystyle {\\delta\\xi_{i}}$"
      ],
      "text/plain": [
       "{\\delta\\xi_{i}}"
      ]
     },
     "metadata": {},
     "output_type": "display_data"
    }
   ],
   "source": [
    "from SymE3.core import log, LieGroup, LieAlgebra, exp\n",
    "\n",
    "# Pose graph optimization\n",
    "T_j = LieGroup(\"{T_{j}}\")\n",
    "T_i = LieGroup(\"{T_{i}}\")\n",
    "Tbar_ij = LieGroup(\"{\\\\bar{T}_{ij}}\")\n",
    "deltaxi_i = LieAlgebra(\"{\\\\delta\\\\xi_{i}}\")\n",
    "\n",
    "e_deltaxi_i = log(T_j.inverse() * Tbar_ij * exp(deltaxi_i) * T_i)\n",
    "display(e_deltaxi_i)\n",
    "display(exp(log(T_i)))\n",
    "display(log(exp(deltaxi_i)))"
   ]
  },
  {
   "cell_type": "code",
   "execution_count": null,
   "id": "75e96241-9bef-49a0-b69c-48cfde6cb394",
   "metadata": {},
   "outputs": [],
   "source": []
  }
 ],
 "metadata": {
  "kernelspec": {
   "display_name": "Python 3 (ipykernel)",
   "language": "python",
   "name": "python3"
  },
  "language_info": {
   "codemirror_mode": {
    "name": "ipython",
    "version": 3
   },
   "file_extension": ".py",
   "mimetype": "text/x-python",
   "name": "python",
   "nbconvert_exporter": "python",
   "pygments_lexer": "ipython3",
   "version": "3.10.6"
  }
 },
 "nbformat": 4,
 "nbformat_minor": 5
}
