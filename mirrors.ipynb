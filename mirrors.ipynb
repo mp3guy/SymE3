{
 "cells": [
  {
   "cell_type": "code",
   "execution_count": null,
   "id": "bff40512-4cca-494f-9df3-9cce642b6ec5",
   "metadata": {},
   "outputs": [
    {
     "name": "stdout",
     "output_type": "stream",
     "text": [
      "Function:\n"
     ]
    },
    {
     "data": {
      "text/latex": [
       "$\\displaystyle \\Pi\\left(dehom\\left({T_{cw}} S\\left({N_w}\\right) {T_{cw}}^{-1} exp\\left({\\delta}\\right) {\\hat{T}_{ct}} {p_t}\\right)\\right) - {p_c}$"
      ],
      "text/plain": [
       "pi - {p_c}"
      ]
     },
     "metadata": {},
     "output_type": "display_data"
    },
    {
     "name": "stdout",
     "output_type": "stream",
     "text": [
      "(2, 1)\n",
      "<class 'sympy.matrices.expressions.matadd.MatAdd'>\n",
      "Substituted:\n"
     ]
    },
    {
     "data": {
      "text/latex": [
       "$\\displaystyle \\Pi\\left(dehom\\left({T_{cw}} S\\left({N_w}\\right) {T_{cw}}^{-1} exp\\left({\\delta}\\right) {\\hat{p}_{c}}\\right)\\right) - {p_c}$"
      ],
      "text/plain": [
       "<SymE3.core.TotalFunction at 0x7f9229e5eb90>"
      ]
     },
     "metadata": {},
     "output_type": "display_data"
    },
    {
     "name": "stdout",
     "output_type": "stream",
     "text": [
      "<class 'SymE3.core.TotalFunction'>\n",
      "Expanded:\n"
     ]
    },
    {
     "data": {
      "text/latex": [
       "$\\displaystyle \\left[\\begin{matrix}c_{x} + \\frac{f_{x} {{\\hat{p}_s}_{0}}}{{{\\hat{p}_s}_{2}}} - {{p_c}_{0}}\\\\c_{y} + \\frac{f_{y} {{\\hat{p}_s}_{1}}}{{{\\hat{p}_s}_{2}}} - {{p_c}_{1}}\\end{matrix}\\right]$"
      ],
      "text/plain": [
       "[[c_x + f_x*{{\\hat{p}_s}_{0}}/{{\\hat{p}_s}_{2}} - {{p_c}_{0}}], [c_y + f_y*{{\\hat{p}_s}_{1}}/{{\\hat{p}_s}_{2}} - {{p_c}_{1}}]]"
      ]
     },
     "metadata": {},
     "output_type": "display_data"
    },
    {
     "name": "stdout",
     "output_type": "stream",
     "text": [
      "(2, 1)\n",
      "<class 'SymE3.detail._Explicit'>\n",
      "Derivative:\n"
     ]
    }
   ],
   "source": [
    "from sympy import eye, symbols, Matrix\n",
    "from SymE3.core import Plane, LieGroup, PointH, Pixel, LieAlgebra, exp, CustomFunction, TotalFunction, dehom, Point\n",
    "\n",
    "def show(v):\n",
    "    display(v)\n",
    "    if hasattr(v, 'shape'):\n",
    "        print(v.shape)\n",
    "    print(type(v))\n",
    "    \n",
    "T_cw = LieGroup(\"{T_{cw}}\")\n",
    "T_ct = LieGroup(\"{\\hat{T}_{ct}}\")\n",
    "p_t = PointH(\"{p_t}\")\n",
    "phat_c = PointH(\"{\\hat{p}_{c}}\")\n",
    "p_c = Pixel(\"{p_c}\")\n",
    "N_w = Plane(\"{N_w}\")\n",
    "d = LieAlgebra(\"{\\\\delta}\")\n",
    "\n",
    "def proj(p):\n",
    "    p_ray = p / p[2, 0]\n",
    "    f_x, f_y, c_x, c_y = symbols(\"f_x f_y c_x c_y\")\n",
    "    \n",
    "    return Matrix([[f_x,   0, c_x],\n",
    "                   [  0, f_y, c_y]]) * p_ray\n",
    "\n",
    "Pi = CustomFunction(\"Pi\", proj, 3, 2)\n",
    "\n",
    "def sym(n):\n",
    "    n_hat = n[0:3, :]\n",
    "    S = eye(4)\n",
    "    S[0:3, 0:3] = eye(3) - (2 * (n_hat * n_hat.transpose()))\n",
    "    S[0:3, 3] = 2 * n[3] * n_hat\n",
    "    return S\n",
    "    \n",
    "S = CustomFunction(\"S\", sym, 4, 4, 1, 4)\n",
    "\n",
    "e = Pi(dehom(T_cw * S(N_w) * T_cw.inverse() * exp(d) * T_ct * p_t)) - p_c\n",
    "print(\"Function:\")\n",
    "show(e)\n",
    "e = e.subs(T_ct * p_t, phat_c)\n",
    "\n",
    "f = TotalFunction(e)\n",
    "\n",
    "print(\"Substituted:\")\n",
    "show(f)\n",
    "\n",
    "print(\"Expanded:\")\n",
    "fe = f.as_explicit()\n",
    "phat_se = TotalFunction(dehom(T_cw * S(N_w) * T_cw.inverse() * exp(d) * phat_c)).as_explicit()\n",
    "phat_s = TotalFunction(Point(\"{\\\\hat{p}_s}\")).as_explicit()\n",
    "\n",
    "for row in range(3):\n",
    "    fe = fe.subs(phat_se[row, 0], phat_s[row, 0])\n",
    "show(fe)\n",
    "\n",
    "print(\"Derivative:\")\n",
    "df_dd = f.diff(d, N_w)\n",
    "\n",
    "S_ce = TotalFunction(T_cw * S(N_w) * T_cw.inverse()).as_explicit()\n",
    "S_c = TotalFunction(LieGroup(\"{S_c}\")).as_explicit()\n",
    "ds_dne = TotalFunction(T_cw * S(N_w) * T_cw.inverse() * phat_c).diff(N_w)\n",
    "ds_dn = TotalFunction(LieGroup(\"{\\partial}S(N_w)\")).as_explicit()\n",
    "                                                                    \n",
    "for row in range(3):\n",
    "    df_dd = df_dd.subs(phat_se[row, 0], phat_s[row, 0])\n",
    "    for col in range(4):\n",
    "        df_dd = df_dd.subs(S_ce[row, col], S_c[row, col])\n",
    "        df_dd = df_dd.subs(ds_dne[row, col], ds_dn[row, col])\n",
    "\n",
    "show(df_dd)"
   ]
  },
  {
   "cell_type": "code",
   "execution_count": null,
   "id": "db156d0f-f52a-4e18-9fcc-af1a1a7e14f3",
   "metadata": {},
   "outputs": [],
   "source": []
  }
 ],
 "metadata": {
  "kernelspec": {
   "display_name": "Python 3 (ipykernel)",
   "language": "python",
   "name": "python3"
  },
  "language_info": {
   "codemirror_mode": {
    "name": "ipython",
    "version": 3
   },
   "file_extension": ".py",
   "mimetype": "text/x-python",
   "name": "python",
   "nbconvert_exporter": "python",
   "pygments_lexer": "ipython3",
   "version": "3.10.6"
  }
 },
 "nbformat": 4,
 "nbformat_minor": 5
}
