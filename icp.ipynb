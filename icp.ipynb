{
 "cells": [
  {
   "cell_type": "code",
   "execution_count": 2,
   "id": "99b8fca7-45c4-45e8-8887-ae111f0a77a8",
   "metadata": {},
   "outputs": [
    {
     "name": "stdout",
     "output_type": "stream",
     "text": [
      "Function:\n"
     ]
    },
    {
     "data": {
      "text/latex": [
       "$\\displaystyle {n_{r_i}}^{T} \\left(- {r_i} + exp\\left({\\delta}\\right) {\\hat{T}_{rl}} {l_i}\\right)$"
      ],
      "text/plain": [
       "{n_{r_i}}.T*(-{r_i} + exp({\\delta})*{\\hat{T}_{rl}}*{l_i})"
      ]
     },
     "metadata": {},
     "output_type": "display_data"
    },
    {
     "name": "stdout",
     "output_type": "stream",
     "text": [
      "(1, 1)\n",
      "<class 'sympy.matrices.expressions.matmul.MatMul'>\n",
      "Substituted:\n"
     ]
    },
    {
     "data": {
      "text/latex": [
       "$\\displaystyle {n_{r_i}}^{T} \\left(- {r_i} + exp\\left({\\delta}\\right) {\\hat{r}_i}\\right)$"
      ],
      "text/plain": [
       "<SymE3.core.TotalFunction at 0x7fe4df51e4d0>"
      ]
     },
     "metadata": {},
     "output_type": "display_data"
    },
    {
     "name": "stdout",
     "output_type": "stream",
     "text": [
      "<class 'SymE3.core.TotalFunction'>\n",
      "Expanded:\n"
     ]
    },
    {
     "data": {
      "text/latex": [
       "$\\displaystyle \\left[\\left[\\begin{matrix}{{n_{r_i}}_{0}} \\left({{\\hat{r}_i}_{0}} - {{r_i}_{0}}\\right) + {{n_{r_i}}_{1}} \\left({{\\hat{r}_i}_{1}} - {{r_i}_{1}}\\right) + {{n_{r_i}}_{2}} \\left({{\\hat{r}_i}_{2}} - {{r_i}_{2}}\\right)\\end{matrix}\\right]\\right]$"
      ],
      "text/plain": [
       "[[{{n_{r_i}}_{0}}*({{\\hat{r}_i}_{0}} - {{r_i}_{0}}) + {{n_{r_i}}_{1}}*({{\\hat{r}_i}_{1}} - {{r_i}_{1}}) + {{n_{r_i}}_{2}}*({{\\hat{r}_i}_{2}} - {{r_i}_{2}})]]"
      ]
     },
     "metadata": {},
     "output_type": "display_data"
    },
    {
     "name": "stdout",
     "output_type": "stream",
     "text": [
      "(1, 1)\n",
      "<class 'SymE3.detail._Explicit'>\n",
      "Derivative:\n"
     ]
    },
    {
     "data": {
      "text/latex": [
       "$\\displaystyle \\left[\\begin{matrix}{{n_{r_i}}_{0}} & {{n_{r_i}}_{1}} & {{n_{r_i}}_{2}} & {{\\hat{r}_i}_{1}} {{n_{r_i}}_{2}} - {{\\hat{r}_i}_{2}} {{n_{r_i}}_{1}} & - {{\\hat{r}_i}_{0}} {{n_{r_i}}_{2}} + {{\\hat{r}_i}_{2}} {{n_{r_i}}_{0}} & {{\\hat{r}_i}_{0}} {{n_{r_i}}_{1}} - {{\\hat{r}_i}_{1}} {{n_{r_i}}_{0}}\\end{matrix}\\right]$"
      ],
      "text/plain": [
       "Matrix([[{{n_{r_i}}_{0}}, {{n_{r_i}}_{1}}, {{n_{r_i}}_{2}}, {{\\hat{r}_i}_{1}}*{{n_{r_i}}_{2}} - {{\\hat{r}_i}_{2}}*{{n_{r_i}}_{1}}, -{{\\hat{r}_i}_{0}}*{{n_{r_i}}_{2}} + {{\\hat{r}_i}_{2}}*{{n_{r_i}}_{0}}, {{\\hat{r}_i}_{0}}*{{n_{r_i}}_{1}} - {{\\hat{r}_i}_{1}}*{{n_{r_i}}_{0}}]])"
      ]
     },
     "metadata": {},
     "output_type": "display_data"
    },
    {
     "name": "stdout",
     "output_type": "stream",
     "text": [
      "(1, 6)\n",
      "<class 'sympy.matrices.dense.MutableDenseMatrix'>\n"
     ]
    }
   ],
   "source": [
    "from SymE3.core import PointH, NormalH, LieAlgebra, LieGroup, TotalFunction, exp\n",
    "\n",
    "def show(v):\n",
    "    display(v)\n",
    "    if hasattr(v, 'shape'):\n",
    "        print(v.shape)\n",
    "    print(type(v))\n",
    "\n",
    "# Point to plane ICP\n",
    "n_ri = NormalH(\"{n_{r_i}}\")\n",
    "r_i = PointH(\"{r_i}\")\n",
    "l_i = PointH(\"{l_i}\")\n",
    "rhat_i = PointH(\"{\\\\hat{r}_i}\")\n",
    "That_rl = LieGroup(\"{\\\\hat{T}_{rl}}\")\n",
    "d = LieAlgebra(\"{\\\\delta}\")\n",
    "\n",
    "e = n_ri.transpose() * ((exp(d) * That_rl * l_i) - r_i)\n",
    "print(\"Function:\")\n",
    "show(e)\n",
    "e = e.subs(That_rl * l_i, rhat_i)\n",
    "\n",
    "f = TotalFunction(e)\n",
    "\n",
    "print(\"Substituted:\")\n",
    "show(f)\n",
    "\n",
    "print(\"Expanded:\")\n",
    "fe = f.as_explicit()\n",
    "show(fe)\n",
    "\n",
    "print(\"Derivative:\")\n",
    "df_dd = f.diff(d)\n",
    "show(df_dd)"
   ]
  },
  {
   "cell_type": "code",
   "execution_count": null,
   "id": "661a667e-38bd-4d0e-a6ec-84065ee2c138",
   "metadata": {},
   "outputs": [],
   "source": []
  }
 ],
 "metadata": {
  "kernelspec": {
   "display_name": "Python 3 (ipykernel)",
   "language": "python",
   "name": "python3"
  },
  "language_info": {
   "codemirror_mode": {
    "name": "ipython",
    "version": 3
   },
   "file_extension": ".py",
   "mimetype": "text/x-python",
   "name": "python",
   "nbconvert_exporter": "python",
   "pygments_lexer": "ipython3",
   "version": "3.10.6"
  }
 },
 "nbformat": 4,
 "nbformat_minor": 5
}
