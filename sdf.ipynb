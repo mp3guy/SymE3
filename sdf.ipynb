{
 "cells": [
  {
   "cell_type": "code",
   "execution_count": 1,
   "id": "42427037-0211-4b35-a2d6-53f86f349e71",
   "metadata": {},
   "outputs": [
    {
     "name": "stdout",
     "output_type": "stream",
     "text": [
      "Function:\n"
     ]
    },
    {
     "data": {
      "text/latex": [
       "$\\displaystyle {\\psi}\\left(dehom\\left(exp\\left({\\delta}\\right) {\\hat{T}_{wl}} {l_i}\\right)\\right)$"
      ],
      "text/plain": [
       "{\\psi}(dehom(exp({\\delta})*{\\hat{T}_{wl}}*{l_i}))"
      ]
     },
     "metadata": {},
     "output_type": "display_data"
    },
    {
     "name": "stdout",
     "output_type": "stream",
     "text": [
      "(1, 1)\n",
      "<class 'SymE3.core.{\\psi}'>\n",
      "Substituted:\n"
     ]
    },
    {
     "data": {
      "text/latex": [
       "$\\displaystyle {\\psi}\\left(dehom\\left(exp\\left({\\delta}\\right) {\\hat{l}_i}\\right)\\right)$"
      ],
      "text/plain": [
       "<SymE3.core.TotalFunction at 0x7fdaef7967d0>"
      ]
     },
     "metadata": {},
     "output_type": "display_data"
    },
    {
     "name": "stdout",
     "output_type": "stream",
     "text": [
      "<class 'SymE3.core.TotalFunction'>\n",
      "Expanded:\n"
     ]
    },
    {
     "data": {
      "text/latex": [
       "$\\displaystyle \\operatorname{{\\psi}}{\\left({{\\hat{l}_i}_{0}},{{\\hat{l}_i}_{1}},{{\\hat{l}_i}_{2}} \\right)}$"
      ],
      "text/plain": [
       "{\\psi}({{\\hat{l}_i}_{0}}, {{\\hat{l}_i}_{1}}, {{\\hat{l}_i}_{2}})"
      ]
     },
     "metadata": {},
     "output_type": "display_data"
    },
    {
     "name": "stdout",
     "output_type": "stream",
     "text": [
      "{\\psi}\n",
      "Derivative:\n"
     ]
    },
    {
     "data": {
      "text/latex": [
       "$\\displaystyle \\left[\\begin{matrix}{{\\Delta}{\\psi}}_{x} & {{\\Delta}{\\psi}}_{y} & {{\\Delta}{\\psi}}_{z} & - {{\\Delta}{\\psi}}_{y} {{\\hat{l}_i}_{2}} + {{\\Delta}{\\psi}}_{z} {{\\hat{l}_i}_{1}} & {{\\Delta}{\\psi}}_{x} {{\\hat{l}_i}_{2}} - {{\\Delta}{\\psi}}_{z} {{\\hat{l}_i}_{0}} & - {{\\Delta}{\\psi}}_{x} {{\\hat{l}_i}_{1}} + {{\\Delta}{\\psi}}_{y} {{\\hat{l}_i}_{0}}\\end{matrix}\\right]$"
      ],
      "text/plain": [
       "Matrix([[{{\\Delta}{\\psi}}_{x}, {{\\Delta}{\\psi}}_{y}, {{\\Delta}{\\psi}}_{z}, -{{\\Delta}{\\psi}}_{y}*{{\\hat{l}_i}_{2}} + {{\\Delta}{\\psi}}_{z}*{{\\hat{l}_i}_{1}}, {{\\Delta}{\\psi}}_{x}*{{\\hat{l}_i}_{2}} - {{\\Delta}{\\psi}}_{z}*{{\\hat{l}_i}_{0}}, -{{\\Delta}{\\psi}}_{x}*{{\\hat{l}_i}_{1}} + {{\\Delta}{\\psi}}_{y}*{{\\hat{l}_i}_{0}}]])"
      ]
     },
     "metadata": {},
     "output_type": "display_data"
    },
    {
     "name": "stdout",
     "output_type": "stream",
     "text": [
      "(1, 6)\n",
      "<class 'sympy.matrices.dense.MutableDenseMatrix'>\n"
     ]
    }
   ],
   "source": [
    "from SymE3.core import PointH, LieGroup, LieAlgebra, SymbolicFunction, dehom, exp, TotalFunction\n",
    "\n",
    "def show(v):\n",
    "    display(v)\n",
    "    if hasattr(v, 'shape'):\n",
    "        print(v.shape)\n",
    "    print(type(v))\n",
    "    \n",
    "l_i = PointH(\"{l_i}\")\n",
    "lhat_i = PointH(\"{\\\\hat{l}_i}\")\n",
    "That_wl = LieGroup(\"{\\\\hat{T}_{wl}}\")\n",
    "d = LieAlgebra(\"{\\\\delta}\")\n",
    "psi = SymbolicFunction(\"{\\\\psi}\", 3, 1)\n",
    "\n",
    "e = psi(dehom(exp(d) * That_wl * l_i))\n",
    "print(\"Function:\")\n",
    "show(e)\n",
    "e = e.subs(That_wl * l_i, lhat_i)\n",
    "\n",
    "f = TotalFunction(e)\n",
    "\n",
    "print(\"Substituted:\")\n",
    "show(f)\n",
    "\n",
    "print(\"Expanded:\")\n",
    "fe = f.as_explicit()\n",
    "show(fe)\n",
    "\n",
    "print(\"Derivative:\")\n",
    "df_dd = f.diff(d)\n",
    "show(df_dd)"
   ]
  },
  {
   "cell_type": "code",
   "execution_count": null,
   "id": "f4efb202-4f12-4492-bfb1-bcab91a4a163",
   "metadata": {},
   "outputs": [],
   "source": []
  }
 ],
 "metadata": {
  "kernelspec": {
   "display_name": "Python 3 (ipykernel)",
   "language": "python",
   "name": "python3"
  },
  "language_info": {
   "codemirror_mode": {
    "name": "ipython",
    "version": 3
   },
   "file_extension": ".py",
   "mimetype": "text/x-python",
   "name": "python",
   "nbconvert_exporter": "python",
   "pygments_lexer": "ipython3",
   "version": "3.10.6"
  }
 },
 "nbformat": 4,
 "nbformat_minor": 5
}
