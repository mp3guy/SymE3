{
 "cells": [
  {
   "cell_type": "code",
   "execution_count": 1,
   "id": "3deb2ef4-8b7f-433f-bd33-d81001235c1c",
   "metadata": {},
   "outputs": [
    {
     "name": "stdout",
     "output_type": "stream",
     "text": [
      "Function:\n"
     ]
    },
    {
     "data": {
      "text/latex": [
       "$\\displaystyle - \\Pi\\left(dehom\\left(exp\\left({\\delta}\\right) {\\hat{T}_{cw}} {x_w}\\right)\\right) + {x_i}$"
      ],
      "text/plain": [
       "<SymE3.core.TotalFunction at 0x7f8b9ca43400>"
      ]
     },
     "metadata": {},
     "output_type": "display_data"
    },
    {
     "name": "stdout",
     "output_type": "stream",
     "text": [
      "<class 'SymE3.core.TotalFunction'>\n",
      "Expanded:\n"
     ]
    },
    {
     "data": {
      "text/latex": [
       "$\\displaystyle \\left[\\begin{matrix}- c_{x} - \\frac{f_{x} {{\\hat{x}_c}_{0}}}{{{\\hat{x}_c}_{2}}} + {{x_i}_{0}}\\\\- c_{y} - \\frac{f_{y} {{\\hat{x}_c}_{1}}}{{{\\hat{x}_c}_{2}}} + {{x_i}_{1}}\\end{matrix}\\right]$"
      ],
      "text/plain": [
       "[[-c_x - f_x*{{\\hat{x}_c}_{0}}/{{\\hat{x}_c}_{2}} + {{x_i}_{0}}], [-c_y - f_y*{{\\hat{x}_c}_{1}}/{{\\hat{x}_c}_{2}} + {{x_i}_{1}}]]"
      ]
     },
     "metadata": {},
     "output_type": "display_data"
    },
    {
     "name": "stdout",
     "output_type": "stream",
     "text": [
      "(2, 1)\n",
      "<class 'SymE3.detail._Explicit'>\n",
      "Derivative:\n"
     ]
    },
    {
     "data": {
      "text/latex": [
       "$\\displaystyle \\left[\\begin{array}{ccccccccccccc}- \\frac{f_{x}}{{{\\hat{x}_c}_{2}}} & 0 & \\frac{f_{x} {{\\hat{x}_c}_{0}}}{{{\\hat{x}_c}_{2}}^{2}} & \\frac{f_{x} {{\\hat{x}_c}_{0}} {{\\hat{x}_c}_{1}}}{{{\\hat{x}_c}_{2}}^{2}} & - \\frac{f_{x} {{\\hat{x}_c}_{0}}^{2}}{{{\\hat{x}_c}_{2}}^{2}} - f_{x} & \\frac{f_{x} {{\\hat{x}_c}_{1}}}{{{\\hat{x}_c}_{2}}} & - \\frac{f_{x} {{\\hat{T}_{cw}}_{00}}}{{{\\hat{x}_c}_{2}}} + \\frac{f_{x} {{\\hat{T}_{cw}}_{20}} {{\\hat{x}_c}_{0}}}{{{\\hat{x}_c}_{2}}^{2}} & - \\frac{f_{x} {{\\hat{T}_{cw}}_{01}}}{{{\\hat{x}_c}_{2}}} + \\frac{f_{x} {{\\hat{T}_{cw}}_{21}} {{\\hat{x}_c}_{0}}}{{{\\hat{x}_c}_{2}}^{2}} & - \\frac{f_{x} {{\\hat{T}_{cw}}_{02}}}{{{\\hat{x}_c}_{2}}} + \\frac{f_{x} {{\\hat{T}_{cw}}_{22}} {{\\hat{x}_c}_{0}}}{{{\\hat{x}_c}_{2}}^{2}} & - \\frac{{{\\hat{x}_c}_{0}}}{{{\\hat{x}_c}_{2}}} & 0 & -1 & 0\\\\0 & - \\frac{f_{y}}{{{\\hat{x}_c}_{2}}} & \\frac{f_{y} {{\\hat{x}_c}_{1}}}{{{\\hat{x}_c}_{2}}^{2}} & \\frac{f_{y} {{\\hat{x}_c}_{1}}^{2}}{{{\\hat{x}_c}_{2}}^{2}} + f_{y} & - \\frac{f_{y} {{\\hat{x}_c}_{0}} {{\\hat{x}_c}_{1}}}{{{\\hat{x}_c}_{2}}^{2}} & - \\frac{f_{y} {{\\hat{x}_c}_{0}}}{{{\\hat{x}_c}_{2}}} & - \\frac{f_{y} {{\\hat{T}_{cw}}_{10}}}{{{\\hat{x}_c}_{2}}} + \\frac{f_{y} {{\\hat{T}_{cw}}_{20}} {{\\hat{x}_c}_{1}}}{{{\\hat{x}_c}_{2}}^{2}} & - \\frac{f_{y} {{\\hat{T}_{cw}}_{11}}}{{{\\hat{x}_c}_{2}}} + \\frac{f_{y} {{\\hat{T}_{cw}}_{21}} {{\\hat{x}_c}_{1}}}{{{\\hat{x}_c}_{2}}^{2}} & - \\frac{f_{y} {{\\hat{T}_{cw}}_{12}}}{{{\\hat{x}_c}_{2}}} + \\frac{f_{y} {{\\hat{T}_{cw}}_{22}} {{\\hat{x}_c}_{1}}}{{{\\hat{x}_c}_{2}}^{2}} & 0 & - \\frac{{{\\hat{x}_c}_{1}}}{{{\\hat{x}_c}_{2}}} & 0 & -1\\end{array}\\right]$"
      ],
      "text/plain": [
       "Matrix([\n",
       "[-f_x/{{\\hat{x}_c}_{2}},                      0, f_x*{{\\hat{x}_c}_{0}}/{{\\hat{x}_c}_{2}}**2, f_x*{{\\hat{x}_c}_{0}}*{{\\hat{x}_c}_{1}}/{{\\hat{x}_c}_{2}}**2,          -f_x*{{\\hat{x}_c}_{0}}**2/{{\\hat{x}_c}_{2}}**2 - f_x,  f_x*{{\\hat{x}_c}_{1}}/{{\\hat{x}_c}_{2}}, -f_x*{{\\hat{T}_{cw}}_{00}}/{{\\hat{x}_c}_{2}} + f_x*{{\\hat{T}_{cw}}_{20}}*{{\\hat{x}_c}_{0}}/{{\\hat{x}_c}_{2}}**2, -f_x*{{\\hat{T}_{cw}}_{01}}/{{\\hat{x}_c}_{2}} + f_x*{{\\hat{T}_{cw}}_{21}}*{{\\hat{x}_c}_{0}}/{{\\hat{x}_c}_{2}}**2, -f_x*{{\\hat{T}_{cw}}_{02}}/{{\\hat{x}_c}_{2}} + f_x*{{\\hat{T}_{cw}}_{22}}*{{\\hat{x}_c}_{0}}/{{\\hat{x}_c}_{2}}**2, -{{\\hat{x}_c}_{0}}/{{\\hat{x}_c}_{2}},                                    0, -1,  0],\n",
       "[                     0, -f_y/{{\\hat{x}_c}_{2}}, f_y*{{\\hat{x}_c}_{1}}/{{\\hat{x}_c}_{2}}**2,          f_y*{{\\hat{x}_c}_{1}}**2/{{\\hat{x}_c}_{2}}**2 + f_y, -f_y*{{\\hat{x}_c}_{0}}*{{\\hat{x}_c}_{1}}/{{\\hat{x}_c}_{2}}**2, -f_y*{{\\hat{x}_c}_{0}}/{{\\hat{x}_c}_{2}}, -f_y*{{\\hat{T}_{cw}}_{10}}/{{\\hat{x}_c}_{2}} + f_y*{{\\hat{T}_{cw}}_{20}}*{{\\hat{x}_c}_{1}}/{{\\hat{x}_c}_{2}}**2, -f_y*{{\\hat{T}_{cw}}_{11}}/{{\\hat{x}_c}_{2}} + f_y*{{\\hat{T}_{cw}}_{21}}*{{\\hat{x}_c}_{1}}/{{\\hat{x}_c}_{2}}**2, -f_y*{{\\hat{T}_{cw}}_{12}}/{{\\hat{x}_c}_{2}} + f_y*{{\\hat{T}_{cw}}_{22}}*{{\\hat{x}_c}_{1}}/{{\\hat{x}_c}_{2}}**2,                                    0, -{{\\hat{x}_c}_{1}}/{{\\hat{x}_c}_{2}},  0, -1]])"
      ]
     },
     "metadata": {},
     "output_type": "display_data"
    },
    {
     "name": "stdout",
     "output_type": "stream",
     "text": [
      "(2, 13)\n",
      "<class 'sympy.matrices.dense.MutableDenseMatrix'>\n"
     ]
    }
   ],
   "source": [
    "from sympy import Matrix, symbols\n",
    "from SymE3.core import PointH, Pixel, LieGroup, LieAlgebra, CustomFunction, dehom, TotalFunction, exp, Point\n",
    "\n",
    "def show(v):\n",
    "    display(v)\n",
    "    if hasattr(v, 'shape'):\n",
    "        print(v.shape)\n",
    "    print(type(v))\n",
    "    \n",
    "x_w = PointH(\"{x_w}\")\n",
    "x_i = Pixel(\"{x_i}\")\n",
    "That_cw = LieGroup(\"{\\\\hat{T}_{cw}}\")\n",
    "d = LieAlgebra(\"{\\\\delta}\")\n",
    "f_x, f_y, c_x, c_y = symbols(\"f_x f_y c_x c_y\")\n",
    "\n",
    "def proj(p):\n",
    "    p_ray = p / p[2, 0]\n",
    "    return Matrix([[f_x,   0, c_x],\n",
    "                   [  0, f_y, c_y]]) * p_ray\n",
    "\n",
    "Pi = CustomFunction(\"Pi\", proj, 3, 2)\n",
    "\n",
    "e = x_i - Pi(dehom(exp(d) * That_cw * x_w))\n",
    "\n",
    "f = TotalFunction(e)\n",
    "\n",
    "print(\"Function:\")\n",
    "show(f)\n",
    "\n",
    "print(\"Expanded:\")\n",
    "fe = f.as_explicit()\n",
    "xhat_ce = TotalFunction(dehom(That_cw * x_w)).as_explicit()\n",
    "xhat_c = TotalFunction(Point(\"{\\\\hat{x}_c}\")).as_explicit()\n",
    "\n",
    "for row in range(3):\n",
    "    fe = fe.subs(xhat_ce[row, 0], xhat_c[row, 0])\n",
    "    \n",
    "show(fe)\n",
    "\n",
    "print(\"Derivative:\")\n",
    "df_dd = f.diff(d, dehom(x_w), f_x, f_y, c_x, c_y)\n",
    "for row in range(3):\n",
    "    df_dd = df_dd.subs(xhat_ce[row, 0], xhat_c[row, 0])\n",
    " \n",
    "show(df_dd)"
   ]
  },
  {
   "cell_type": "code",
   "execution_count": null,
   "id": "e7780d03-b246-4fda-9a61-80b34b68c5ca",
   "metadata": {},
   "outputs": [],
   "source": []
  }
 ],
 "metadata": {
  "kernelspec": {
   "display_name": "Python 3 (ipykernel)",
   "language": "python",
   "name": "python3"
  },
  "language_info": {
   "codemirror_mode": {
    "name": "ipython",
    "version": 3
   },
   "file_extension": ".py",
   "mimetype": "text/x-python",
   "name": "python",
   "nbconvert_exporter": "python",
   "pygments_lexer": "ipython3",
   "version": "3.10.6"
  }
 },
 "nbformat": 4,
 "nbformat_minor": 5
}
